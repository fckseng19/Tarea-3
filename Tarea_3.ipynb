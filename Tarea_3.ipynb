#Tarea3-Modelos Andrés Moya R.
import numpy as np
import pandas as pd
import matplotlib.pyplot as plt
import csv 
from scipy.optimize import curve_fit

#Parte 1 Mejor Curva de ajuste

sumx = []
sumy = []
arr = []
x = np.linspace(5,15,11)
y = np.linspace(5,25,21)
df = pd.read_csv("xy.csv")
arr = df.to_numpy()
arr=np.delete(arr,0,1)

sumy= np.sum(arr,axis=0)

sumx= np.sum(arr,axis=1)

#Curva Fx

plt.xlabel('x')
plt.ylabel('Fx')
plt.title('Curva obtenida de datos en x con ruido')
plt.plot(x,sumx)
plt.show()
#Curva Fy
plt.xlabel('y')
plt.ylabel('Fy')
plt.title('Curva obtenida de datos en y con ruido')
plt.plot(y,sumy)
plt.show()
#Curva de mejor ajuste .Las dos figuras obtenidas eran una curva de Gauss
def gaussiana(x,mu,sigma):
    return 1/(np.sqrt(2*np.pi*sigma**2))*np.exp(-(x-mu)**2/(2*sigma**2))
param,_=curve_fit(gaussiana,x,sumx)
paramy,_=curve_fit(gaussiana,y,sumy)
print(param)
print(paramy)
#Curva Gaussiana de valores de x
mux=param[0]
sigmax=param[1]
plt.xlabel('x')
plt.ylabel('Fx')
plt.title('Curva de mejor ajuste para datos de x sin ruido')
plt.plot(x,gaussiana(x,mux,sigmax))
plt.show()
#Curva de Gauss de valores de y,particularmente es de Rayleigh
muy=param[0]
sigmay=param[1]
plt.xlabel('y')
plt.ylabel('Fy')
plt.title('Curva de mejor ajuste para datos de y sin ruido')
plt.plot(y,gaussiana(y,muy,sigmay))
plt.show()

